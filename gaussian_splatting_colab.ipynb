{
  "cells": [
    {
      "cell_type": "markdown",
      "metadata": {
        "id": "view-in-github",
        "colab_type": "text"
      },
      "source": [
        "<a href=\"https://colab.research.google.com/github/baofuwu/face/blob/main/gaussian_splatting_colab.ipynb\" target=\"_parent\"><img src=\"https://colab.research.google.com/assets/colab-badge.svg\" alt=\"Open In Colab\"/></a>"
      ]
    },
    {
      "cell_type": "code",
      "execution_count": 14,
      "metadata": {
        "id": "VjYy0F2gZIPR",
        "colab": {
          "base_uri": "https://localhost:8080/"
        },
        "outputId": "3f28c657-ee17-4ee7-b3d9-217899210054"
      },
      "outputs": [
        {
          "output_type": "stream",
          "name": "stdout",
          "text": [
            "/content\n",
            "fatal: destination path 'gaussian-splatting' already exists and is not an empty directory.\n",
            "/content/gaussian-splatting\n",
            "  Preparing metadata (setup.py) ... \u001b[?25l\u001b[?25hdone\n",
            "  Building wheel for diff_gaussian_rasterization (setup.py) ... \u001b[?25l\u001b[?25hdone\n",
            "  Preparing metadata (setup.py) ... \u001b[?25l\u001b[?25hdone\n",
            "  \u001b[1;31merror\u001b[0m: \u001b[1msubprocess-exited-with-error\u001b[0m\n",
            "  \n",
            "  \u001b[31m×\u001b[0m \u001b[32mpython setup.py bdist_wheel\u001b[0m did not run successfully.\n",
            "  \u001b[31m│\u001b[0m exit code: \u001b[1;36m1\u001b[0m\n",
            "  \u001b[31m╰─>\u001b[0m See above for output.\n",
            "  \n",
            "  \u001b[1;35mnote\u001b[0m: This error originates from a subprocess, and is likely not a problem with pip.\n",
            "  Building wheel for simple_knn (setup.py) ... \u001b[?25lerror\n",
            "\u001b[31m  ERROR: Failed building wheel for simple_knn\u001b[0m\u001b[31m\n",
            "\u001b[0m\u001b[31mERROR: ERROR: Failed to build installable wheels for some pyproject.toml based projects (simple_knn)\u001b[0m\u001b[31m\n",
            "\u001b[0m\u001b[?25h--2025-07-08 17:16:50--  https://huggingface.co/camenduru/gaussian-splatting/resolve/main/tandt_db.zip\n",
            "Resolving huggingface.co (huggingface.co)... 3.163.189.90, 3.163.189.74, 3.163.189.114, ...\n",
            "Connecting to huggingface.co (huggingface.co)|3.163.189.90|:443... connected.\n",
            "HTTP request sent, awaiting response... 302 Found\n",
            "Location: https://cdn-lfs.hf.co/repos/69/11/6911555bcb5edae447d514169831329398b45a3ed9ae3b00817878bc501559a1/816e62f22a161abbfe841d2a6b10cdf036e297c9fa289b3bfeee9c6ec526d7e1?response-content-disposition=inline%3B+filename*%3DUTF-8%27%27tandt_db.zip%3B+filename%3D%22tandt_db.zip%22%3B&response-content-type=application%2Fzip&Expires=1751998508&Policy=eyJTdGF0ZW1lbnQiOlt7IkNvbmRpdGlvbiI6eyJEYXRlTGVzc1RoYW4iOnsiQVdTOkVwb2NoVGltZSI6MTc1MTk5ODUwOH19LCJSZXNvdXJjZSI6Imh0dHBzOi8vY2RuLWxmcy5oZi5jby9yZXBvcy82OS8xMS82OTExNTU1YmNiNWVkYWU0NDdkNTE0MTY5ODMxMzI5Mzk4YjQ1YTNlZDlhZTNiMDA4MTc4NzhiYzUwMTU1OWExLzgxNmU2MmYyMmExNjFhYmJmZTg0MWQyYTZiMTBjZGYwMzZlMjk3YzlmYTI4OWIzYmZlZWU5YzZlYzUyNmQ3ZTE%7EcmVzcG9uc2UtY29udGVudC1kaXNwb3NpdGlvbj0qJnJlc3BvbnNlLWNvbnRlbnQtdHlwZT0qIn1dfQ__&Signature=e5aNgpVzjLbBW3tkFu6-Yqr5xqOcI9cX1dv4sc27N-MU7ln1Jc1xold4mKvaRDLt0pw3aVRA3tEeyUY2gV6CgGDmUP3dzuLR6VEHfC6jBj%7ErBj8aJvRiazLzAWLAR59%7Eu4Z%7Ets730Na3AVT%7EUiga%7EgQ7BVliUvGR1Kqw2xubKLVu36E0ft4q58ZlD7U2kvSc%7EmxwDuKKpK9UUnCXVV4kGaLT5Z%7EHU%7ES%7EobqTHDWIyXUWSozFnV4a1JKAS%7E2dNsSy8QncNy5AMnIEAA29ctxzAk6qHNx58WaUe-jS9JUFRVrNJK5pgn7h%7EGc-H2hYF%7Ey49uDrVYaNKSWK0AdolfK1vw__&Key-Pair-Id=K3RPWS32NSSJCE [following]\n",
            "--2025-07-08 17:16:50--  https://cdn-lfs.hf.co/repos/69/11/6911555bcb5edae447d514169831329398b45a3ed9ae3b00817878bc501559a1/816e62f22a161abbfe841d2a6b10cdf036e297c9fa289b3bfeee9c6ec526d7e1?response-content-disposition=inline%3B+filename*%3DUTF-8%27%27tandt_db.zip%3B+filename%3D%22tandt_db.zip%22%3B&response-content-type=application%2Fzip&Expires=1751998508&Policy=eyJTdGF0ZW1lbnQiOlt7IkNvbmRpdGlvbiI6eyJEYXRlTGVzc1RoYW4iOnsiQVdTOkVwb2NoVGltZSI6MTc1MTk5ODUwOH19LCJSZXNvdXJjZSI6Imh0dHBzOi8vY2RuLWxmcy5oZi5jby9yZXBvcy82OS8xMS82OTExNTU1YmNiNWVkYWU0NDdkNTE0MTY5ODMxMzI5Mzk4YjQ1YTNlZDlhZTNiMDA4MTc4NzhiYzUwMTU1OWExLzgxNmU2MmYyMmExNjFhYmJmZTg0MWQyYTZiMTBjZGYwMzZlMjk3YzlmYTI4OWIzYmZlZWU5YzZlYzUyNmQ3ZTE%7EcmVzcG9uc2UtY29udGVudC1kaXNwb3NpdGlvbj0qJnJlc3BvbnNlLWNvbnRlbnQtdHlwZT0qIn1dfQ__&Signature=e5aNgpVzjLbBW3tkFu6-Yqr5xqOcI9cX1dv4sc27N-MU7ln1Jc1xold4mKvaRDLt0pw3aVRA3tEeyUY2gV6CgGDmUP3dzuLR6VEHfC6jBj%7ErBj8aJvRiazLzAWLAR59%7Eu4Z%7Ets730Na3AVT%7EUiga%7EgQ7BVliUvGR1Kqw2xubKLVu36E0ft4q58ZlD7U2kvSc%7EmxwDuKKpK9UUnCXVV4kGaLT5Z%7EHU%7ES%7EobqTHDWIyXUWSozFnV4a1JKAS%7E2dNsSy8QncNy5AMnIEAA29ctxzAk6qHNx58WaUe-jS9JUFRVrNJK5pgn7h%7EGc-H2hYF%7Ey49uDrVYaNKSWK0AdolfK1vw__&Key-Pair-Id=K3RPWS32NSSJCE\n",
            "Resolving cdn-lfs.hf.co (cdn-lfs.hf.co)... 18.172.170.21, 18.172.170.108, 18.172.170.29, ...\n",
            "Connecting to cdn-lfs.hf.co (cdn-lfs.hf.co)|18.172.170.21|:443... connected.\n",
            "HTTP request sent, awaiting response... 200 OK\n",
            "Length: 682628995 (651M) [application/zip]\n",
            "Saving to: ‘tandt_db.zip.1’\n",
            "\n",
            "tandt_db.zip.1      100%[===================>] 651.00M   101MB/s    in 4.2s    \n",
            "\n",
            "2025-07-08 17:16:54 (156 MB/s) - ‘tandt_db.zip.1’ saved [682628995/682628995]\n",
            "\n",
            "Archive:  tandt_db.zip\n",
            "replace db/drjohnson/images/IMG_6292.jpg? [y]es, [n]o, [A]ll, [N]one, [r]ename: n\n",
            "replace db/drjohnson/images/IMG_6293.jpg? [y]es, [n]o, [A]ll, [N]one, [r]ename: Traceback (most recent call last):\n",
            "  File \"/content/gaussian-splatting/train.py\", line 16, in <module>\n",
            "    from gaussian_renderer import render, network_gui\n",
            "  File \"/content/gaussian-splatting/gaussian_renderer/__init__.py\", line 15, in <module>\n",
            "    from scene.gaussian_model import GaussianModel\n",
            "  File \"/content/gaussian-splatting/scene/__init__.py\", line 16, in <module>\n",
            "    from scene.dataset_readers import sceneLoadTypeCallbacks\n",
            "  File \"/content/gaussian-splatting/scene/dataset_readers.py\", line 24, in <module>\n",
            "    from scene.gaussian_model import BasicPointCloud\n",
            "  File \"/content/gaussian-splatting/scene/gaussian_model.py\", line 20, in <module>\n",
            "    from simple_knn._C import distCUDA2\n",
            "ModuleNotFoundError: No module named 'simple_knn'\n"
          ]
        }
      ],
      "source": [
        "%cd /content\n",
        "!git clone --recursive https://github.com/camenduru/gaussian-splatting\n",
        "!pip install -q plyfile\n",
        "\n",
        "%cd /content/gaussian-splatting\n",
        "!pip install -q /content/gaussian-splatting/submodules/diff-gaussian-rasterization\n",
        "!pip install -q /content/gaussian-splatting/submodules/simple-knn\n",
        "\n",
        "!wget https://huggingface.co/camenduru/gaussian-splatting/resolve/main/tandt_db.zip\n",
        "!unzip tandt_db.zip\n",
        "\n",
        "!python train.py -s /content/gaussian-splatting/tandt/train\n",
        "\n",
        "# !wget https://huggingface.co/camenduru/gaussian-splatting/resolve/main/GaussianViewTest.zip\n",
        "# !unzip GaussianViewTest.zip\n",
        "# !python render.py -m /content/gaussian-splatting/GaussianViewTest/model\n",
        "# !ffmpeg -framerate 3 -i /content/gaussian-splatting/GaussianViewTest/model/train/ours_30000/renders/%05d.png -vf \"pad=ceil(iw/2)*2:ceil(ih/2)*2\" -c:v libx264 -r 3 -pix_fmt yuv420p /content/renders.mp4\n",
        "# !ffmpeg -framerate 3 -i /content/gaussian-splatting/GaussianViewTest/model/train/ours_30000/gt/%05d.png -vf \"pad=ceil(iw/2)*2:ceil(ih/2)*2\" -c:v libx264 -r 3 -pix_fmt yuv420p /content/gt.mp4 -y"
      ]
    },
    {
      "cell_type": "code",
      "source": [
        "%cd /content\n",
        "!git clone --recursive https://github.com/camenduru/gaussian-splatting\n",
        "!pip install -q plyfile\n",
        "\n",
        "%cd /content/gaussian-splatting\n",
        "!pip install -q /content/gaussian-splatting/submodules/diff-gaussian-rasterization\n",
        "!pip install -q /content/gaussian-splatting/submodules/simple-knn\n",
        "\n",
        "!wget https://huggingface.co/camenduru/gaussian-splatting/resolve/main/tandt_db.zip\n",
        "!unzip tandt_db.zip\n"
      ],
      "metadata": {
        "collapsed": true,
        "id": "Jnx2qIcQvon7"
      },
      "execution_count": null,
      "outputs": []
    },
    {
      "cell_type": "code",
      "source": [
        "import os\n",
        "os.environ[\"QT_QPA_PLATFORM\"] = \"offscreen\"\n"
      ],
      "metadata": {
        "id": "7jki_KVZ0p8y"
      },
      "execution_count": 5,
      "outputs": []
    },
    {
      "cell_type": "code",
      "source": [
        "!python convert.py -s face/train\n",
        "\n"
      ],
      "metadata": {
        "colab": {
          "base_uri": "https://localhost:8080/"
        },
        "id": "JifGSHxS0sKb",
        "outputId": "ee9aef1b-63e4-4b6f-e48b-911b7ae02e17"
      },
      "execution_count": 6,
      "outputs": [
        {
          "output_type": "stream",
          "name": "stdout",
          "text": [
            "QStandardPaths: XDG_RUNTIME_DIR not set, defaulting to '/tmp/runtime-root'\n",
            "F0708 16:35:29.647315 12184 opengl_utils.cc:56] Check failed: context_.create() \n",
            "*** Check failure stack trace: ***\n",
            "    @     0x7f6d45e64b03  google::LogMessage::Fail()\n",
            "    @     0x7f6d45e6c9d1  google::LogMessage::SendToLog()\n",
            "    @     0x7f6d45e647c2  google::LogMessage::Flush()\n",
            "    @     0x7f6d45e6678f  google::LogMessageFatal::~LogMessageFatal()\n",
            "    @     0x5aba54ffb0e1  colmap::OpenGLContextManager::OpenGLContextManager()\n",
            "    @     0x5aba54f32f8f  colmap::internal::SiftFeatureExtractorThread::SiftFeatureExtractorThread()\n",
            "    @     0x5aba54f2a8d8  colmap::SiftFeatureExtractor::SiftFeatureExtractor()\n",
            "    @     0x5aba54e273f5  colmap::RunFeatureExtractor()\n",
            "    @     0x5aba54e19499  main\n",
            "    @     0x7f6d43ed6d90  (unknown)\n",
            "    @     0x7f6d43ed6e40  __libc_start_main\n",
            "    @     0x5aba54e1c3e5  _start\n",
            "Aborted (core dumped)\n",
            "ERROR:root:Feature extraction failed with code 34304. Exiting.\n"
          ]
        }
      ]
    },
    {
      "cell_type": "code",
      "source": [
        "!git clone https://github.com/graphdeco-inria/gaussian-splatting.git"
      ],
      "metadata": {
        "colab": {
          "base_uri": "https://localhost:8080/"
        },
        "id": "Ocq68pog-i2N",
        "outputId": "a5786286-9b83-411f-a6d4-66924cb0e584"
      },
      "execution_count": 11,
      "outputs": [
        {
          "output_type": "stream",
          "name": "stdout",
          "text": [
            "Cloning into 'gaussian-splatting'...\n",
            "remote: Enumerating objects: 859, done.\u001b[K\n",
            "remote: Total 859 (delta 0), reused 0 (delta 0), pack-reused 859 (from 1)\u001b[K\n",
            "Receiving objects: 100% (859/859), 78.64 MiB | 42.49 MiB/s, done.\n",
            "Resolving deltas: 100% (492/492), done.\n"
          ]
        }
      ]
    },
    {
      "cell_type": "code",
      "source": [
        "!python train.py -s /content/gaussian-splatting/tandt/train"
      ],
      "metadata": {
        "colab": {
          "base_uri": "https://localhost:8080/"
        },
        "id": "zBzp56u4_Dbd",
        "outputId": "8588187b-54dd-44ca-eae2-3246e068a2e0"
      },
      "execution_count": 12,
      "outputs": [
        {
          "output_type": "stream",
          "name": "stdout",
          "text": [
            "Traceback (most recent call last):\n",
            "  File \"/content/gaussian-splatting/train.py\", line 16, in <module>\n",
            "    from gaussian_renderer import render, network_gui\n",
            "  File \"/content/gaussian-splatting/gaussian_renderer/__init__.py\", line 15, in <module>\n",
            "    from scene.gaussian_model import GaussianModel\n",
            "  File \"/content/gaussian-splatting/scene/__init__.py\", line 16, in <module>\n",
            "    from scene.dataset_readers import sceneLoadTypeCallbacks\n",
            "  File \"/content/gaussian-splatting/scene/dataset_readers.py\", line 24, in <module>\n",
            "    from scene.gaussian_model import BasicPointCloud\n",
            "  File \"/content/gaussian-splatting/scene/gaussian_model.py\", line 20, in <module>\n",
            "    from simple_knn._C import distCUDA2\n",
            "ModuleNotFoundError: No module named 'simple_knn'\n"
          ]
        }
      ]
    },
    {
      "cell_type": "code",
      "source": [
        "!sudo apt update\n",
        "!sudo apt install -y build-essential cmake ninja-build\n"
      ],
      "metadata": {
        "colab": {
          "base_uri": "https://localhost:8080/"
        },
        "id": "mQCfK2BNEWD7",
        "outputId": "c80a8885-237a-4258-983a-25273cd11c6c"
      },
      "execution_count": 17,
      "outputs": [
        {
          "output_type": "stream",
          "name": "stdout",
          "text": [
            "\u001b[33m\r0% [Working]\u001b[0m\r            \rHit:1 https://developer.download.nvidia.com/compute/cuda/repos/ubuntu2204/x86_64  InRelease\n",
            "\u001b[33m\r0% [Waiting for headers] [Waiting for headers] [Waiting for headers] [Connected\u001b[0m\r                                                                               \rGet:2 https://cloud.r-project.org/bin/linux/ubuntu jammy-cran40/ InRelease [3,632 B]\n",
            "\u001b[33m\r0% [Waiting for headers] [Waiting for headers] [Connected to r2u.stat.illinois.\u001b[0m\r                                                                               \rGet:3 http://security.ubuntu.com/ubuntu jammy-security InRelease [129 kB]\n",
            "Hit:4 http://archive.ubuntu.com/ubuntu jammy InRelease\n",
            "Get:5 http://archive.ubuntu.com/ubuntu jammy-updates InRelease [128 kB]\n",
            "Get:6 https://r2u.stat.illinois.edu/ubuntu jammy InRelease [6,555 B]\n",
            "Get:7 http://archive.ubuntu.com/ubuntu jammy-backports InRelease [127 kB]\n",
            "Get:8 https://r2u.stat.illinois.edu/ubuntu jammy/main amd64 Packages [2,755 kB]\n",
            "Get:9 http://security.ubuntu.com/ubuntu jammy-security/main amd64 Packages [3,098 kB]\n",
            "Get:10 http://archive.ubuntu.com/ubuntu jammy-updates/universe amd64 Packages [1,566 kB]\n",
            "Hit:11 https://ppa.launchpadcontent.net/deadsnakes/ppa/ubuntu jammy InRelease\n",
            "Hit:12 https://ppa.launchpadcontent.net/graphics-drivers/ppa/ubuntu jammy InRelease\n",
            "Get:13 https://r2u.stat.illinois.edu/ubuntu jammy/main all Packages [9,086 kB]\n",
            "Hit:14 https://ppa.launchpadcontent.net/ubuntugis/ppa/ubuntu jammy InRelease\n",
            "Get:15 http://archive.ubuntu.com/ubuntu jammy-updates/restricted amd64 Packages [4,948 kB]\n",
            "Get:16 http://security.ubuntu.com/ubuntu jammy-security/universe amd64 Packages [1,264 kB]\n",
            "Get:17 http://security.ubuntu.com/ubuntu jammy-security/restricted amd64 Packages [4,780 kB]\n",
            "Get:18 http://archive.ubuntu.com/ubuntu jammy-updates/main amd64 Packages [3,413 kB]\n",
            "Get:19 http://archive.ubuntu.com/ubuntu jammy-backports/universe amd64 Packages [35.2 kB]\n",
            "Fetched 31.3 MB in 3s (11.1 MB/s)\n",
            "Reading package lists... Done\n",
            "Building dependency tree... Done\n",
            "Reading state information... Done\n",
            "52 packages can be upgraded. Run 'apt list --upgradable' to see them.\n",
            "\u001b[1;33mW: \u001b[0mSkipping acquire of configured file 'main/source/Sources' as repository 'https://r2u.stat.illinois.edu/ubuntu jammy InRelease' does not seem to provide it (sources.list entry misspelt?)\u001b[0m\n",
            "Reading package lists... Done\n",
            "Building dependency tree... Done\n",
            "Reading state information... Done\n",
            "build-essential is already the newest version (12.9ubuntu3).\n",
            "cmake is already the newest version (3.22.1-1ubuntu1.22.04.2).\n",
            "The following NEW packages will be installed:\n",
            "  ninja-build\n",
            "0 upgraded, 1 newly installed, 0 to remove and 52 not upgraded.\n",
            "Need to get 111 kB of archives.\n",
            "After this operation, 358 kB of additional disk space will be used.\n",
            "Get:1 http://archive.ubuntu.com/ubuntu jammy/universe amd64 ninja-build amd64 1.10.1-1 [111 kB]\n",
            "Fetched 111 kB in 0s (226 kB/s)\n",
            "debconf: unable to initialize frontend: Dialog\n",
            "debconf: (No usable dialog-like program is installed, so the dialog based frontend cannot be used. at /usr/share/perl5/Debconf/FrontEnd/Dialog.pm line 78, <> line 1.)\n",
            "debconf: falling back to frontend: Readline\n",
            "debconf: unable to initialize frontend: Readline\n",
            "debconf: (This frontend requires a controlling tty.)\n",
            "debconf: falling back to frontend: Teletype\n",
            "dpkg-preconfigure: unable to re-open stdin: \n",
            "Selecting previously unselected package ninja-build.\n",
            "(Reading database ... 127406 files and directories currently installed.)\n",
            "Preparing to unpack .../ninja-build_1.10.1-1_amd64.deb ...\n",
            "Unpacking ninja-build (1.10.1-1) ...\n",
            "Setting up ninja-build (1.10.1-1) ...\n",
            "Processing triggers for man-db (2.10.2-1) ...\n"
          ]
        }
      ]
    },
    {
      "cell_type": "code",
      "source": [
        "!pip install -U pip setuptools wheel\n",
        "!pip install pybind11 ninja\n"
      ],
      "metadata": {
        "colab": {
          "base_uri": "https://localhost:8080/"
        },
        "id": "9sc0TF1yEV1t",
        "outputId": "6643f256-5811-4024-b60d-612c9e27ce0e"
      },
      "execution_count": 2,
      "outputs": [
        {
          "output_type": "stream",
          "name": "stdout",
          "text": [
            "Requirement already satisfied: pip in /usr/local/lib/python3.11/dist-packages (25.1.1)\n",
            "Requirement already satisfied: setuptools in /usr/local/lib/python3.11/dist-packages (80.9.0)\n",
            "Requirement already satisfied: wheel in /usr/local/lib/python3.11/dist-packages (0.45.1)\n",
            "Requirement already satisfied: pybind11 in /usr/local/lib/python3.11/dist-packages (2.13.6)\n",
            "Requirement already satisfied: ninja in /usr/local/lib/python3.11/dist-packages (1.11.1.4)\n"
          ]
        }
      ]
    },
    {
      "cell_type": "code",
      "source": [
        "%cd /content/gaussian-splatting/submodules/simple-knn\n",
        "!python setup.py install\n"
      ],
      "metadata": {
        "colab": {
          "base_uri": "https://localhost:8080/"
        },
        "id": "vMiY78BbEa7G",
        "outputId": "de3e3652-0123-4388-c808-a696a81c8239"
      },
      "execution_count": 4,
      "outputs": [
        {
          "output_type": "stream",
          "name": "stdout",
          "text": [
            "/content/gaussian-splatting/submodules/simple-knn\n",
            "running install\n",
            "/usr/local/lib/python3.11/dist-packages/setuptools/_distutils/cmd.py:90: SetuptoolsDeprecationWarning: setup.py install is deprecated.\n",
            "!!\n",
            "\n",
            "        ********************************************************************************\n",
            "        Please avoid running ``setup.py`` directly.\n",
            "        Instead, use pypa/build, pypa/installer or other\n",
            "        standards-based tools.\n",
            "\n",
            "        By 2025-Oct-31, you need to update your project and remove deprecated calls\n",
            "        or your builds will no longer be supported.\n",
            "\n",
            "        See https://blog.ganssle.io/articles/2021/10/setup-py-deprecated.html for details.\n",
            "        ********************************************************************************\n",
            "\n",
            "!!\n",
            "  self.initialize_options()\n",
            "running build\n",
            "running build_ext\n",
            "/usr/local/lib/python3.11/dist-packages/torch/utils/cpp_extension.py:448: UserWarning: The detected CUDA version (12.5) has a minor version mismatch with the version that was used to compile PyTorch (12.4). Most likely this shouldn't be a problem.\n",
            "  warnings.warn(CUDA_MISMATCH_WARN.format(cuda_str_version, torch.version.cuda))\n",
            "/usr/local/lib/python3.11/dist-packages/torch/utils/cpp_extension.py:458: UserWarning: There are no x86_64-linux-gnu-g++ version bounds defined for CUDA version 12.5\n",
            "  warnings.warn(f'There are no {compiler_name} version bounds defined for CUDA version {cuda_str_version}')\n",
            "building 'simple_knn._C' extension\n",
            "/usr/local/lib/python3.11/dist-packages/torch/utils/cpp_extension.py:2059: UserWarning: TORCH_CUDA_ARCH_LIST is not set, all archs for visible cards are included for compilation. \n",
            "If this is not desired, please set os.environ['TORCH_CUDA_ARCH_LIST'].\n",
            "  warnings.warn(\n",
            "Emitting ninja build file /content/gaussian-splatting/submodules/simple-knn/build/temp.linux-x86_64-cpython-311/build.ninja...\n",
            "Compiling objects...\n",
            "Allowing ninja to set a default number of workers... (overridable by setting the environment variable MAX_JOBS=N)\n",
            "[1/1] /usr/local/cuda/bin/nvcc --generate-dependencies-with-compile --dependency-output /content/gaussian-splatting/submodules/simple-knn/build/temp.linux-x86_64-cpython-311/simple_knn.o.d -I/usr/local/lib/python3.11/dist-packages/torch/include -I/usr/local/lib/python3.11/dist-packages/torch/include/torch/csrc/api/include -I/usr/local/lib/python3.11/dist-packages/torch/include/TH -I/usr/local/lib/python3.11/dist-packages/torch/include/THC -I/usr/local/cuda/include -I/usr/include/python3.11 -c -c /content/gaussian-splatting/submodules/simple-knn/simple_knn.cu -o /content/gaussian-splatting/submodules/simple-knn/build/temp.linux-x86_64-cpython-311/simple_knn.o -D__CUDA_NO_HALF_OPERATORS__ -D__CUDA_NO_HALF_CONVERSIONS__ -D__CUDA_NO_BFLOAT16_CONVERSIONS__ -D__CUDA_NO_HALF2_OPERATORS__ --expt-relaxed-constexpr --compiler-options ''\"'\"'-fPIC'\"'\"'' -DTORCH_API_INCLUDE_EXTENSION_H '-DPYBIND11_COMPILER_TYPE=\"_gcc\"' '-DPYBIND11_STDLIB=\"_libstdcpp\"' '-DPYBIND11_BUILD_ABI=\"_cxxabi1011\"' -DTORCH_EXTENSION_NAME=_C -D_GLIBCXX_USE_CXX11_ABI=0 -gencode=arch=compute_75,code=compute_75 -gencode=arch=compute_75,code=sm_75 -std=c++17\n",
            "/content/gaussian-splatting/submodules/simple-knn/simple_knn.cu:23: warning: \"__CUDACC__\" redefined\n",
            "   23 | #define __CUDACC__\n",
            "      | \n",
            "<command-line>: note: this is the location of the previous definition\n",
            "/content/gaussian-splatting/submodules/simple-knn/simple_knn.cu:23: warning: \"__CUDACC__\" redefined\n",
            "   23 | #define __CUDACC__\n",
            "      | \n",
            "<command-line>: note: this is the location of the previous definition\n",
            "creating build/lib.linux-x86_64-cpython-311/simple_knn\n",
            "x86_64-linux-gnu-g++ -Wsign-compare -DNDEBUG -g -fwrapv -O2 -Wall -g -fstack-protector-strong -Wformat -Werror=format-security -g -fwrapv -O2 -shared -Wl,-O1 -Wl,-Bsymbolic-functions /content/gaussian-splatting/submodules/simple-knn/build/temp.linux-x86_64-cpython-311/ext.o /content/gaussian-splatting/submodules/simple-knn/build/temp.linux-x86_64-cpython-311/simple_knn.o /content/gaussian-splatting/submodules/simple-knn/build/temp.linux-x86_64-cpython-311/spatial.o -L/usr/local/lib/python3.11/dist-packages/torch/lib -L/usr/local/cuda/lib64 -L/usr/lib/x86_64-linux-gnu -lc10 -ltorch -ltorch_cpu -ltorch_python -lcudart -lc10_cuda -ltorch_cuda -o build/lib.linux-x86_64-cpython-311/simple_knn/_C.cpython-311-x86_64-linux-gnu.so\n",
            "running install_lib\n",
            "creating /usr/local/lib/python3.11/dist-packages/simple_knn\n",
            "copying build/lib.linux-x86_64-cpython-311/simple_knn/_C.cpython-311-x86_64-linux-gnu.so -> /usr/local/lib/python3.11/dist-packages/simple_knn\n",
            "running install_egg_info\n",
            "running egg_info\n",
            "creating simple_knn.egg-info\n",
            "writing simple_knn.egg-info/PKG-INFO\n",
            "writing dependency_links to simple_knn.egg-info/dependency_links.txt\n",
            "writing top-level names to simple_knn.egg-info/top_level.txt\n",
            "writing manifest file 'simple_knn.egg-info/SOURCES.txt'\n",
            "reading manifest file 'simple_knn.egg-info/SOURCES.txt'\n",
            "writing manifest file 'simple_knn.egg-info/SOURCES.txt'\n",
            "Copying simple_knn.egg-info to /usr/local/lib/python3.11/dist-packages/simple_knn-0.0.0-py3.11.egg-info\n",
            "running install_scripts\n"
          ]
        }
      ]
    },
    {
      "cell_type": "code",
      "source": [
        "!mkdir -p /content/gaussian-splatting/face/train/sparse/0\n",
        "!cp /content/gaussian-splatting/face/train/distorted/sparse/0/* /content/gaussian-splatting/face/train/sparse/0/\n"
      ],
      "metadata": {
        "colab": {
          "base_uri": "https://localhost:8080/"
        },
        "id": "MxamxCfbJwcP",
        "outputId": "8c791d1b-ae2e-4184-ce18-fdb7db10e6ba"
      },
      "execution_count": 7,
      "outputs": [
        {
          "output_type": "stream",
          "name": "stdout",
          "text": [
            "cp: cannot stat '/content/gaussian-splatting/face/train/distorted/sparse/0/*': No such file or directory\n"
          ]
        }
      ]
    },
    {
      "cell_type": "code",
      "source": [
        "%cd /content/gaussian-splatting\n",
        "!python train.py -s /content/gaussian-splatting/db/face"
      ],
      "metadata": {
        "colab": {
          "base_uri": "https://localhost:8080/"
        },
        "id": "iYkKMahBHlWm",
        "outputId": "68947c9d-d927-48c9-eca7-4828dafeda8b"
      },
      "execution_count": null,
      "outputs": [
        {
          "output_type": "stream",
          "name": "stdout",
          "text": [
            "/content/gaussian-splatting\n",
            "2025-07-08 18:43:11.826524: E external/local_xla/xla/stream_executor/cuda/cuda_fft.cc:477] Unable to register cuFFT factory: Attempting to register factory for plugin cuFFT when one has already been registered\n",
            "WARNING: All log messages before absl::InitializeLog() is called are written to STDERR\n",
            "E0000 00:00:1752000191.847007   45669 cuda_dnn.cc:8310] Unable to register cuDNN factory: Attempting to register factory for plugin cuDNN when one has already been registered\n",
            "E0000 00:00:1752000191.853220   45669 cuda_blas.cc:1418] Unable to register cuBLAS factory: Attempting to register factory for plugin cuBLAS when one has already been registered\n",
            "2025-07-08 18:43:11.873653: I tensorflow/core/platform/cpu_feature_guard.cc:210] This TensorFlow binary is optimized to use available CPU instructions in performance-critical operations.\n",
            "To enable the following instructions: AVX2 FMA, in other operations, rebuild TensorFlow with the appropriate compiler flags.\n",
            "Optimizing \n",
            "Output folder: ./output/2b30fc43-a [08/07 18:43:15]\n",
            "Reading camera 22/22 [08/07 18:43:15]\n",
            "Converting point3d.bin to .ply, will happen only the first time you open the scene. [08/07 18:43:15]\n",
            "Loading Training Cameras [08/07 18:43:15]\n",
            "[ INFO ] Encountered quite large input images (>1.6K pixels width), rescaling to 1.6K.\n",
            " If this is not desired, please explicitly specify '--resolution/-r' as 1 [08/07 18:43:15]\n",
            "Loading Test Cameras [08/07 18:43:20]\n",
            "Number of points at initialisation :  2481 [08/07 18:43:20]\n",
            "Training progress:   8% 2300/30000 [02:47<39:30, 11.69it/s, Loss=0.0324887]"
          ]
        }
      ]
    },
    {
      "cell_type": "code",
      "source": [],
      "metadata": {
        "id": "175rLLY-ItJh"
      },
      "execution_count": null,
      "outputs": []
    }
  ],
  "metadata": {
    "accelerator": "GPU",
    "colab": {
      "gpuType": "T4",
      "provenance": [],
      "include_colab_link": true
    },
    "kernelspec": {
      "display_name": "Python 3",
      "name": "python3"
    },
    "language_info": {
      "name": "python"
    }
  },
  "nbformat": 4,
  "nbformat_minor": 0
}