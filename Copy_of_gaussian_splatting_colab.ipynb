{
  "cells": [
    {
      "cell_type": "markdown",
      "metadata": {
        "id": "view-in-github",
        "colab_type": "text"
      },
      "source": [
        "<a href=\"https://colab.research.google.com/github/baofuwu/face/blob/main/Copy_of_gaussian_splatting_colab.ipynb\" target=\"_parent\"><img src=\"https://colab.research.google.com/assets/colab-badge.svg\" alt=\"Open In Colab\"/></a>"
      ]
    },
    {
      "cell_type": "code",
      "source": [
        "from google.colab import drive\n",
        "drive.mount('/content/drive')"
      ],
      "metadata": {
        "id": "Iz2SwwKA5ZAC",
        "colab": {
          "base_uri": "https://localhost:8080/"
        },
        "outputId": "b6386a08-4ad7-4d83-f400-e1ae37d7882c"
      },
      "execution_count": 1,
      "outputs": [
        {
          "output_type": "stream",
          "name": "stdout",
          "text": [
            "Mounted at /content/drive\n"
          ]
        }
      ]
    },
    {
      "cell_type": "code",
      "execution_count": 4,
      "metadata": {
        "id": "VjYy0F2gZIPR",
        "colab": {
          "base_uri": "https://localhost:8080/"
        },
        "outputId": "14c6f890-f70f-4b15-af9c-b88cb1bc93af"
      },
      "outputs": [
        {
          "output_type": "stream",
          "name": "stdout",
          "text": [
            "/content/drive/MyDrive\n",
            "/content/drive/MyDrive/gaussian-splatting\n",
            "  Preparing metadata (setup.py) ... \u001b[?25l\u001b[?25hdone\n",
            "  Building wheel for diff_gaussian_rasterization (setup.py) ... \u001b[?25l\u001b[?25hdone\n",
            "  Preparing metadata (setup.py) ... \u001b[?25l\u001b[?25hdone\n",
            "  Building wheel for simple_knn (setup.py) ... \u001b[?25l\u001b[?25hdone\n"
          ]
        }
      ],
      "source": [
        "\n",
        "%cd /content/drive/MyDrive/\n",
        "# !git clone https://github.com/graphdeco-inria/gaussian-splatting --recursive\n",
        "!pip install -q plyfile\n",
        "\n",
        "%cd gaussian-splatting\n",
        "!pip install -q /content/drive/MyDrive/gaussian-splatting/submodules/diff-gaussian-rasterization\n",
        "!pip install -q /content/drive/MyDrive/gaussian-splatting/submodules/simple-knn\n",
        "\n",
        "# !wget https://huggingface.co/camenduru/gaussian-splatting/resolve/main/GaussianViewTest.zip\n",
        "# !unzip GaussianViewTest.zip\n",
        "# !python render.py -m /content/gaussian-splatting/GaussianViewTest/model\n",
        "# !ffmpeg -framerate 3 -i /content/gaussian-splatting/GaussianViewTest/model/train/ours_30000/renders/%05d.png -vf \"pad=ceil(iw/2)*2:ceil(ih/2)*2\" -c:v libx264 -r 3 -pix_fmt yuv420p /content/renders.mp4\n",
        "# !ffmpeg -framerate 3 -i /content/gaussian-splatting/GaussianViewTest/model/train/ours_30000/gt/%05d.png -vf \"pad=ceil(iw/2)*2:ceil(ih/2)*2\" -c:v libx264 -r 3 -pix_fmt yuv420p /content/gt.mp4 -y"
      ]
    },
    {
      "cell_type": "code",
      "source": [
        "!python train.py -s /content/drive/MyDrive/gaussian-splatting/db/face\n",
        "\n"
      ],
      "metadata": {
        "colab": {
          "base_uri": "https://localhost:8080/"
        },
        "id": "JifGSHxS0sKb",
        "outputId": "0dccdc9c-1305-42bc-e35f-4a9853934ddd"
      },
      "execution_count": null,
      "outputs": [
        {
          "output_type": "stream",
          "name": "stdout",
          "text": [
            "2025-07-09 16:22:04.015018: E external/local_xla/xla/stream_executor/cuda/cuda_fft.cc:477] Unable to register cuFFT factory: Attempting to register factory for plugin cuFFT when one has already been registered\n",
            "WARNING: All log messages before absl::InitializeLog() is called are written to STDERR\n",
            "E0000 00:00:1752078124.034942    3201 cuda_dnn.cc:8310] Unable to register cuDNN factory: Attempting to register factory for plugin cuDNN when one has already been registered\n",
            "E0000 00:00:1752078124.041030    3201 cuda_blas.cc:1418] Unable to register cuBLAS factory: Attempting to register factory for plugin cuBLAS when one has already been registered\n",
            "2025-07-09 16:22:04.061004: I tensorflow/core/platform/cpu_feature_guard.cc:210] This TensorFlow binary is optimized to use available CPU instructions in performance-critical operations.\n",
            "To enable the following instructions: AVX2 FMA, in other operations, rebuild TensorFlow with the appropriate compiler flags.\n",
            "Optimizing \n",
            "Output folder: ./output/22d9f452-e [09/07 16:22:07]\n",
            "Reading camera 22/22 [09/07 16:22:09]\n",
            "Loading Training Cameras [09/07 16:22:11]\n",
            "[ INFO ] Encountered quite large input images (>1.6K pixels width), rescaling to 1.6K.\n",
            " If this is not desired, please explicitly specify '--resolution/-r' as 1 [09/07 16:22:12]\n",
            "Loading Test Cameras [09/07 16:22:36]\n",
            "Number of points at initialisation :  2481 [09/07 16:22:36]\n",
            "Training progress:  23% 7000/30000 [10:28<38:37,  9.93it/s, Loss=0.0213484, Depth Loss=0.0000000]\n",
            "[ITER 7000] Evaluating train: L1 0.010986592993140221 PSNR 35.43622360229492 [09/07 16:33:17]\n",
            "\n",
            "[ITER 7000] Saving Gaussians [09/07 16:33:17]\n",
            "Training progress: 100% 30000/30000 [50:03<00:00,  9.99it/s, Loss=0.0183779, Depth Loss=0.0000000]\n",
            "\n",
            "[ITER 30000] Evaluating train: L1 0.009277049265801907 PSNR 37.292520141601564 [09/07 17:12:47]\n",
            "\n",
            "[ITER 30000] Saving Gaussians [09/07 17:12:47]\n",
            "\n",
            "Training complete. [09/07 17:12:49]\n"
          ]
        }
      ]
    },
    {
      "cell_type": "code",
      "source": [
        "%cd /content/drive/MyDrive/gaussian-splatting\n",
        "!python render.py -m ./output/22d9f452-e"
      ],
      "metadata": {
        "colab": {
          "base_uri": "https://localhost:8080/"
        },
        "id": "Z_1lgOM7OCS1",
        "outputId": "0053d8f7-2d41-4bd8-e7ec-ebdf261d16b0"
      },
      "execution_count": 5,
      "outputs": [
        {
          "output_type": "stream",
          "name": "stdout",
          "text": [
            "/content/drive/MyDrive/gaussian-splatting\n",
            "Looking for config file in ./output/22d9f452-e/cfg_args\n",
            "Config file found: ./output/22d9f452-e/cfg_args\n",
            "Rendering ./output/22d9f452-e\n",
            "Loading trained model at iteration 30000 [09/07 17:30:59]\n",
            "Reading camera 22/22 [09/07 17:31:01]\n",
            "Loading Training Cameras [09/07 17:31:01]\n",
            "[ INFO ] Encountered quite large input images (>1.6K pixels width), rescaling to 1.6K.\n",
            " If this is not desired, please explicitly specify '--resolution/-r' as 1 [09/07 17:31:02]\n",
            "Loading Test Cameras [09/07 17:31:13]\n",
            "Rendering progress: 100% 22/22 [00:26<00:00,  1.22s/it]\n",
            "Rendering progress: 0it [00:00, ?it/s]\n"
          ]
        }
      ]
    },
    {
      "cell_type": "code",
      "source": [
        "!ffmpeg -framerate 8 -i ./output/22d9f452-e/train/ours_30000/renders/%05d.png -c:v libx264 -pix_fmt yuv420p ./output/22d9f452-e/rendered_video_8fps.mp4\n",
        "\n"
      ],
      "metadata": {
        "colab": {
          "base_uri": "https://localhost:8080/"
        },
        "id": "pGrAB0MSQYCg",
        "outputId": "5751d0a9-caf8-4488-fb9c-a24dd183d5f8"
      },
      "execution_count": 10,
      "outputs": [
        {
          "output_type": "stream",
          "name": "stdout",
          "text": [
            "ffmpeg version 4.4.2-0ubuntu0.22.04.1 Copyright (c) 2000-2021 the FFmpeg developers\n",
            "  built with gcc 11 (Ubuntu 11.2.0-19ubuntu1)\n",
            "  configuration: --prefix=/usr --extra-version=0ubuntu0.22.04.1 --toolchain=hardened --libdir=/usr/lib/x86_64-linux-gnu --incdir=/usr/include/x86_64-linux-gnu --arch=amd64 --enable-gpl --disable-stripping --enable-gnutls --enable-ladspa --enable-libaom --enable-libass --enable-libbluray --enable-libbs2b --enable-libcaca --enable-libcdio --enable-libcodec2 --enable-libdav1d --enable-libflite --enable-libfontconfig --enable-libfreetype --enable-libfribidi --enable-libgme --enable-libgsm --enable-libjack --enable-libmp3lame --enable-libmysofa --enable-libopenjpeg --enable-libopenmpt --enable-libopus --enable-libpulse --enable-librabbitmq --enable-librubberband --enable-libshine --enable-libsnappy --enable-libsoxr --enable-libspeex --enable-libsrt --enable-libssh --enable-libtheora --enable-libtwolame --enable-libvidstab --enable-libvorbis --enable-libvpx --enable-libwebp --enable-libx265 --enable-libxml2 --enable-libxvid --enable-libzimg --enable-libzmq --enable-libzvbi --enable-lv2 --enable-omx --enable-openal --enable-opencl --enable-opengl --enable-sdl2 --enable-pocketsphinx --enable-librsvg --enable-libmfx --enable-libdc1394 --enable-libdrm --enable-libiec61883 --enable-chromaprint --enable-frei0r --enable-libx264 --enable-shared\n",
            "  libavutil      56. 70.100 / 56. 70.100\n",
            "  libavcodec     58.134.100 / 58.134.100\n",
            "  libavformat    58. 76.100 / 58. 76.100\n",
            "  libavdevice    58. 13.100 / 58. 13.100\n",
            "  libavfilter     7.110.100 /  7.110.100\n",
            "  libswscale      5.  9.100 /  5.  9.100\n",
            "  libswresample   3.  9.100 /  3.  9.100\n",
            "  libpostproc    55.  9.100 / 55.  9.100\n",
            "Input #0, image2, from './output/22d9f452-e/train/ours_30000/renders/%05d.png':\n",
            "  Duration: 00:00:02.75, start: 0.000000, bitrate: N/A\n",
            "  Stream #0:0: Video: png, rgb24(pc), 1600x892, 8 fps, 8 tbr, 8 tbn, 8 tbc\n",
            "Stream mapping:\n",
            "  Stream #0:0 -> #0:0 (png (native) -> h264 (libx264))\n",
            "Press [q] to stop, [?] for help\n",
            "\u001b[1;36m[libx264 @ 0x5b997a0639c0] \u001b[0musing cpu capabilities: MMX2 SSE2Fast SSSE3 SSE4.2 AVX FMA3 BMI2 AVX2\n",
            "\u001b[1;36m[libx264 @ 0x5b997a0639c0] \u001b[0mprofile High, level 4.0, 4:2:0, 8-bit\n",
            "\u001b[1;36m[libx264 @ 0x5b997a0639c0] \u001b[0m264 - core 163 r3060 5db6aa6 - H.264/MPEG-4 AVC codec - Copyleft 2003-2021 - http://www.videolan.org/x264.html - options: cabac=1 ref=3 deblock=1:0:0 analyse=0x3:0x113 me=hex subme=7 psy=1 psy_rd=1.00:0.00 mixed_ref=1 me_range=16 chroma_me=1 trellis=1 8x8dct=1 cqm=0 deadzone=21,11 fast_pskip=1 chroma_qp_offset=-2 threads=3 lookahead_threads=1 sliced_threads=0 nr=0 decimate=1 interlaced=0 bluray_compat=0 constrained_intra=0 bframes=3 b_pyramid=2 b_adapt=1 b_bias=0 direct=1 weightb=1 open_gop=0 weightp=2 keyint=250 keyint_min=8 scenecut=40 intra_refresh=0 rc_lookahead=40 rc=crf mbtree=1 crf=23.0 qcomp=0.60 qpmin=0 qpmax=69 qpstep=4 ip_ratio=1.40 aq=1:1.00\n",
            "Output #0, mp4, to './output/22d9f452-e/rendered_video_8fps.mp4':\n",
            "  Metadata:\n",
            "    encoder         : Lavf58.76.100\n",
            "  Stream #0:0: Video: h264 (avc1 / 0x31637661), yuv420p(tv, progressive), 1600x892, q=2-31, 8 fps, 16384 tbn\n",
            "    Metadata:\n",
            "      encoder         : Lavc58.134.100 libx264\n",
            "    Side data:\n",
            "      cpb: bitrate max/min/avg: 0/0/0 buffer size: 0 vbv_delay: N/A\n",
            "frame=   22 fps=6.1 q=-1.0 Lsize=     765kB time=00:00:02.37 bitrate=2638.1kbits/s speed=0.657x    \n",
            "video:764kB audio:0kB subtitle:0kB other streams:0kB global headers:0kB muxing overhead: 0.140132%\n",
            "\u001b[1;36m[libx264 @ 0x5b997a0639c0] \u001b[0mframe I:2     Avg QP:18.52  size: 52182\n",
            "\u001b[1;36m[libx264 @ 0x5b997a0639c0] \u001b[0mframe P:11    Avg QP:19.95  size: 39354\n",
            "\u001b[1;36m[libx264 @ 0x5b997a0639c0] \u001b[0mframe B:9     Avg QP:20.30  size: 27130\n",
            "\u001b[1;36m[libx264 @ 0x5b997a0639c0] \u001b[0mconsecutive B-frames: 31.8% 36.4% 13.6% 18.2%\n",
            "\u001b[1;36m[libx264 @ 0x5b997a0639c0] \u001b[0mmb I  I16..4: 16.8% 69.4% 13.8%\n",
            "\u001b[1;36m[libx264 @ 0x5b997a0639c0] \u001b[0mmb P  I16..4: 16.2% 44.4%  4.8%  P16..4: 22.3%  8.4%  2.3%  0.0%  0.0%    skip: 1.5%\n",
            "\u001b[1;36m[libx264 @ 0x5b997a0639c0] \u001b[0mmb B  I16..4:  5.4%  9.0%  1.0%  B16..8: 37.8% 12.1%  1.5%  direct:15.0%  skip:18.1%  L0:56.2% L1:31.8% BI:12.0%\n",
            "\u001b[1;36m[libx264 @ 0x5b997a0639c0] \u001b[0m8x8 transform intra:66.9% inter:83.1%\n",
            "\u001b[1;36m[libx264 @ 0x5b997a0639c0] \u001b[0mcoded y,uvDC,uvAC intra: 44.9% 74.5% 35.0% inter: 32.9% 67.3% 1.9%\n",
            "\u001b[1;36m[libx264 @ 0x5b997a0639c0] \u001b[0mi16 v,h,dc,p: 29% 17%  6% 49%\n",
            "\u001b[1;36m[libx264 @ 0x5b997a0639c0] \u001b[0mi8 v,h,dc,ddl,ddr,vr,hd,vl,hu: 31% 18% 16%  5%  6%  7%  6%  6%  5%\n",
            "\u001b[1;36m[libx264 @ 0x5b997a0639c0] \u001b[0mi4 v,h,dc,ddl,ddr,vr,hd,vl,hu: 32% 20% 12%  4% 10%  7%  9%  4%  3%\n",
            "\u001b[1;36m[libx264 @ 0x5b997a0639c0] \u001b[0mi8c dc,h,v,p: 46% 17% 30%  8%\n",
            "\u001b[1;36m[libx264 @ 0x5b997a0639c0] \u001b[0mWeighted P-Frames: Y:0.0% UV:0.0%\n",
            "\u001b[1;36m[libx264 @ 0x5b997a0639c0] \u001b[0mref P L0: 85.6%  9.8%  3.6%  1.0%\n",
            "\u001b[1;36m[libx264 @ 0x5b997a0639c0] \u001b[0mref B L0: 93.0%  6.5%  0.5%\n",
            "\u001b[1;36m[libx264 @ 0x5b997a0639c0] \u001b[0mref B L1: 99.4%  0.6%\n",
            "\u001b[1;36m[libx264 @ 0x5b997a0639c0] \u001b[0mkb/s:2273.25\n"
          ]
        }
      ]
    },
    {
      "cell_type": "code",
      "source": [
        "!pip install open3d -q\n",
        "!python export_mesh_with_texture.py"
      ],
      "metadata": {
        "id": "9A8ts9BtSS7e",
        "outputId": "0a07814b-93d1-424d-e4bd-d428afe19daf",
        "colab": {
          "base_uri": "https://localhost:8080/"
        }
      },
      "execution_count": 12,
      "outputs": [
        {
          "output_type": "stream",
          "name": "stdout",
          "text": [
            "\u001b[2K   \u001b[90m━━━━━━━━━━━━━━━━━━━━━━━━━━━━━━━━━━━━━━━━\u001b[0m \u001b[32m447.7/447.7 MB\u001b[0m \u001b[31m3.6 MB/s\u001b[0m eta \u001b[36m0:00:00\u001b[0m\n",
            "\u001b[2K   \u001b[90m━━━━━━━━━━━━━━━━━━━━━━━━━━━━━━━━━━━━━━━━\u001b[0m \u001b[32m7.9/7.9 MB\u001b[0m \u001b[31m110.3 MB/s\u001b[0m eta \u001b[36m0:00:00\u001b[0m\n",
            "\u001b[2K   \u001b[90m━━━━━━━━━━━━━━━━━━━━━━━━━━━━━━━━━━━━━━━━\u001b[0m \u001b[32m139.8/139.8 kB\u001b[0m \u001b[31m10.8 MB/s\u001b[0m eta \u001b[36m0:00:00\u001b[0m\n",
            "\u001b[2K   \u001b[90m━━━━━━━━━━━━━━━━━━━━━━━━━━━━━━━━━━━━━━━━\u001b[0m \u001b[32m2.2/2.2 MB\u001b[0m \u001b[31m87.0 MB/s\u001b[0m eta \u001b[36m0:00:00\u001b[0m\n",
            "\u001b[2K   \u001b[90m━━━━━━━━━━━━━━━━━━━━━━━━━━━━━━━━━━━━━━━━\u001b[0m \u001b[32m1.6/1.6 MB\u001b[0m \u001b[31m73.5 MB/s\u001b[0m eta \u001b[36m0:00:00\u001b[0m\n",
            "\u001b[?25h加载点云...\n",
            "生成纹理贴图...\n",
            "构建伪UV并重建Mesh（Poisson）...\n",
            "[WARNING] /root/Open3D/build/poisson/src/ext_poisson/PoissonRecon/Src/FEMTree.Initialize.inl (Line 193)\n",
            "          Initialize\n",
            "          Found bad data: 133341\n",
            "保存 OBJ + MTL...\n",
            "✅ 导出完成！你可以在以下目录找到结果：\n",
            "./output/22d9f452-e/export_mesh\n"
          ]
        }
      ]
    }
  ],
  "metadata": {
    "accelerator": "GPU",
    "colab": {
      "gpuType": "T4",
      "provenance": [],
      "include_colab_link": true
    },
    "kernelspec": {
      "display_name": "Python 3",
      "name": "python3"
    },
    "language_info": {
      "name": "python"
    }
  },
  "nbformat": 4,
  "nbformat_minor": 0
}